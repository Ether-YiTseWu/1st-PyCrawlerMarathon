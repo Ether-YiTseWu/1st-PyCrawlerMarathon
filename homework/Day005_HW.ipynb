{
 "cells": [
  {
   "cell_type": "markdown",
   "metadata": {},
   "source": [
    "# API 資料串接 - 以 Dcard API 實作範例\n",
    "\n",
    "* 了解 Dcard API 使用方式與回傳內容\n",
    "* 撰寫程式存取 API 且解析 JSON 格式資料\n"
   ]
  },
  {
   "cell_type": "markdown",
   "metadata": {},
   "source": [
    "## 作業目標\n",
    "\n",
    "* 請利用 API: https://www.dcard.tw/_api/forums/pet/posts?popular=true 回答下列問題：\n",
    "\n",
    "1. 這個 API 一次會回傳幾筆資料？每一筆資料包含哪些欄位？\n",
    "2. 取出每一筆資料的「標題」、「貼文時間」、「留言人數」、「按讚人數」\n",
    "3. 計算熱門/非熱門文章的「平均留言人數」與「平均按讚人數」"
   ]
  },
  {
   "cell_type": "code",
   "execution_count": 1,
   "metadata": {},
   "outputs": [
    {
     "data": {
      "text/plain": [
       "'[{\"id\":232636982,\"title\":\"#圖 捉姦在沙發！\",\"excerpt\":\"從小就超想要有一個哥哥，雖然很多人都說現實中的哥哥不是每個都那麼暖那麼照顧人，但..就還是很想要啊！！🥺，常常跟媽媽吵著想要一個哥哥..然後..嗯..我就有了弟弟...，媽 差很多好不好..（ ･᷄\",\"anonymousSchool\":false,\"anonymousDepartment\":false,\"pinned\":false,\"forumId\":\"7ee21581-1307-4ba9-b9dc-82028bdcca49\",\"replyId\":null,\"createdAt\":\"2019-12-06T10:36:45.348Z\",\"updatedAt\":\"2019-12-06T23:38:30.226Z\",\"commentCount\":41,\"likeCount\":1516,\"withNickname\":true,\"tags\":[],\"topics\":[\"貓\",\"可愛\",\"妹控哥哥\"],\"meta\":{\"layout\":\"classic\"},\"forumName\":\"寵物\",\"forumAlias\":\"pet\",\"gender\":\"F\",\"school\":\"趴呀披娜喵🐈\",\"department\":\"sharon0104\",\"replyTitle\":null,\"mediaMeta\":[{\"id\":\"f9c16bec-d44f-444c-acbf-21b27452e179\",\"url\":\"https://i.imgur.com/pkox1TSl.jpg\",\"normalizedUrl\":\"https://i.imgur.com/pkox1TSl.jpg\",\"thumbnail\":\"https://i.imgur.com/pkox1TSl.jpg\",\"type\":\"image/thumbnail\",\"tags\":[\"ANNOTATED\"],\"createdAt\":\"2019-12-06T10:36:45.348Z\",\"updatedAt\":\"2019-12-06T23:38:30.226Z\"},{\"id\":\"f9c16bec-d44f-444c-acbf-21b27452e179\",\"url\":\"https://i.imgur.com/pkox1TS.jpg\",\"nor'"
      ]
     },
     "execution_count": 1,
     "metadata": {},
     "output_type": "execute_result"
    }
   ],
   "source": [
    "# 1. 這個 API 一次會回傳幾筆資料？每一筆資料包含哪些欄位？\n",
    "\n",
    "# My code\n",
    "\n",
    "import requests\n",
    "webDataPop = requests.get( 'https://www.dcard.tw/_api/forums/pet/posts?popular=true')\n",
    "response = webDataPop.text\n",
    "\n",
    "response[:1000]"
   ]
  },
  {
   "cell_type": "code",
   "execution_count": 2,
   "metadata": {},
   "outputs": [
    {
     "name": "stdout",
     "output_type": "stream",
     "text": [
      "Title: #圖 捉姦在沙發！, Created At: 2019-12-06T10:36:45.348Z, Comment Count: 41 Like Count: 1516\n",
      "Title: 小貓 vs 哈士奇の貓狗大戰, Created At: 2019-12-06T05:59:13.675Z, Comment Count: 13 Like Count: 176\n",
      "Title: #第一張有恐怖圖 你笑起來好可愛, Created At: 2019-12-07T03:25:34.942Z, Comment Count: 4 Like Count: 110\n",
      "Title: 金鋼狼出現了！, Created At: 2019-12-06T06:54:49.757Z, Comment Count: 1 Like Count: 79\n",
      "Title: 發現被母貓遺棄的奶貓, Created At: 2019-12-06T06:59:54.426Z, Comment Count: 11 Like Count: 70\n",
      "Title: 到底誰才是正宮！, Created At: 2019-12-06T06:27:08.672Z, Comment Count: 2 Like Count: 51\n",
      "Title: 只是想曬貓, Created At: 2019-12-06T09:03:54.724Z, Comment Count: 8 Like Count: 31\n",
      "Title: 好可愛，同學你的貓塞奶完還跑走(˶‾᷄ ⁻̫ ‾᷅˵), Created At: 2019-12-06T19:30:21.516Z, Comment Count: 2 Like Count: 27\n",
      "Title: 當貓的 一定要會做一件事, Created At: 2019-12-06T14:40:52.782Z, Comment Count: 1 Like Count: 24\n",
      "Title: 冬天94要不洗頭, Created At: 2019-12-07T05:25:00.317Z, Comment Count: 4 Like Count: 23\n",
      "Title: 滑過略過 千萬別錯過萌獸, Created At: 2019-12-06T16:13:16.298Z, Comment Count: 1 Like Count: 18\n",
      "Title: 曬腳腳, Created At: 2019-12-06T13:26:57.273Z, Comment Count: 4 Like Count: 17\n",
      "Title: 泰國寵物手繪油畫, Created At: 2019-12-06T08:09:13.877Z, Comment Count: 4 Like Count: 17\n",
      "Title: 天冷懶人包(ꐦ ´͈ ᗨ `͈ ), Created At: 2019-12-06T05:22:55.430Z, Comment Count: 5 Like Count: 15\n",
      "Title: 我的貓咪是漢堡神偷 😨, Created At: 2019-12-07T02:55:55.656Z, Comment Count: 2 Like Count: 14\n",
      "Title: 看我的喵之呼吸！！, Created At: 2019-12-07T09:10:11.051Z, Comment Count: 4 Like Count: 13\n",
      "Title: 正在冬眠的貓, Created At: 2019-12-07T07:00:54.317Z, Comment Count: 4 Like Count: 13\n",
      "Title: 雲林斗六建興路遺失黑貴賓犬, Created At: 2019-12-06T14:20:00.871Z, Comment Count: 3 Like Count: 12\n",
      "Title: 虎斑法鬥, Created At: 2019-12-06T07:32:08.907Z, Comment Count: 8 Like Count: 12\n",
      "Title: 貓貓也來取暖, Created At: 2019-12-07T04:04:18.841Z, Comment Count: 0 Like Count: 11\n",
      "Title: 奴才端菜來～～（圖多）, Created At: 2019-12-06T16:26:19.150Z, Comment Count: 7 Like Count: 11\n",
      "Title: ⚠️迷你狐獴出沒, Created At: 2019-12-06T17:21:41.388Z, Comment Count: 2 Like Count: 10\n",
      "Title: 高雄小毛球送養, Created At: 2019-12-06T09:24:27.893Z, Comment Count: 1 Like Count: 10\n",
      "Title: 超可愛的狗勾送養文, Created At: 2019-12-07T06:16:38.381Z, Comment Count: 0 Like Count: 9\n",
      "Title: 娃娃破壞者, Created At: 2019-12-06T09:30:44.558Z, Comment Count: 0 Like Count: 8\n",
      "Title: 交出你的貓貓(ಥ_ಥ), Created At: 2019-12-06T03:30:10.814Z, Comment Count: 5 Like Count: 8\n",
      "Title: 小老鼠跟你有仇嗎=    =, Created At: 2019-12-07T02:45:02.748Z, Comment Count: 4 Like Count: 7\n",
      "Title: 她搶走了我媽的男人, Created At: 2019-12-06T13:46:40.632Z, Comment Count: 1 Like Count: 5\n",
      "Title: 買狗一定錯？, Created At: 2019-12-06T12:26:56.069Z, Comment Count: 8 Like Count: 5\n",
      "Title: #影 變冷 暖氣吹爽爽, Created At: 2019-12-06T08:16:37.608Z, Comment Count: 0 Like Count: 5\n"
     ]
    }
   ],
   "source": [
    "# 2. 取出每一筆資料的「標題」、「貼文時間」、「留言人數」、「按讚人數」\n",
    "\n",
    "# My code\n",
    "\n",
    "import json\n",
    "jsonDataPop = json.loads(response)\n",
    "\n",
    "for d in jsonDataPop:\n",
    "    print(\"Title:\",d['title']+',',\"Created At:\", d['createdAt']+',','Comment Count:', d['commentCount'], \"Like Count:\",d['likeCount'])"
   ]
  },
  {
   "cell_type": "code",
   "execution_count": 3,
   "metadata": {},
   "outputs": [],
   "source": [
    "# 3. 計算熱門/非熱門文章的「平均留言人數」與「平均按讚人數」\n",
    "\n",
    "# My code\n",
    "webDataNoPop = requests.get( 'https://www.dcard.tw/_api/forums/pet/posts?popular=false')\n",
    "jsonDataNoPop = json.loads(webDataNoPop.text)\n",
    "\n",
    "commentPop = likeCountPop = countNumPop = 0\n",
    "for d in jsonDataPop:\n",
    "    countNumPop += 1\n",
    "    commentPop += d['commentCount']\n",
    "    likeCountPop += d['likeCount']\n",
    "\n",
    "commentNoPop = likeCountNoPop = countNumNoPop = 0\n",
    "for d in jsonDataNoPop:\n",
    "    countNumNoPop += 1\n",
    "    commentNoPop += d['commentCount']\n",
    "    likeCountNoPop += d['likeCount']"
   ]
  },
  {
   "cell_type": "code",
   "execution_count": 4,
   "metadata": {},
   "outputs": [
    {
     "name": "stdout",
     "output_type": "stream",
     "text": [
      "Comment of Popular Article 5.0\n",
      "Likes of Popular Article 77.56666666666666\n",
      "Comment of Not Popular Article 2.4\n",
      "Likes of Not Popular Article 9.166666666666666\n"
     ]
    }
   ],
   "source": [
    "print(\"Comment of Popular Article\",commentPop/countNumPop)\n",
    "print(\"Likes of Popular Article\",likeCountPop/countNumPop)\n",
    "print(\"Comment of Not Popular Article\",commentNoPop/countNumNoPop)\n",
    "print(\"Likes of Not Popular Article\",likeCountNoPop/countNumNoPop)"
   ]
  }
 ],
 "metadata": {
  "kernelspec": {
   "display_name": "Python 3",
   "language": "python",
   "name": "python3"
  },
  "language_info": {
   "codemirror_mode": {
    "name": "ipython",
    "version": 3
   },
   "file_extension": ".py",
   "mimetype": "text/x-python",
   "name": "python",
   "nbconvert_exporter": "python",
   "pygments_lexer": "ipython3",
   "version": "3.7.1"
  }
 },
 "nbformat": 4,
 "nbformat_minor": 2
}
