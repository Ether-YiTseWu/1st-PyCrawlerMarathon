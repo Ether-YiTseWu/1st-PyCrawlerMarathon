{
 "cells": [
  {
   "cell_type": "markdown",
   "metadata": {},
   "source": [
    "# 靜態網頁的資料爬蟲策略\n",
    "\n",
    "\n",
    "* 了解靜態網頁的資料爬蟲策略\n",
    "* 認識適用於靜態網頁爬蟲的相關套件工具：Request\n",
    "* 認識適用於靜態網頁爬蟲的相關套件工具：BeatifulSoup"
   ]
  },
  {
   "cell_type": "markdown",
   "metadata": {},
   "source": [
    "## 作業目標\n",
    "\n",
    "利用 Request + BeatifulSoup 爬取下列兩個網站內容並解析：\n",
    "\n",
    "1. Dcared 網址： https://www.dcard.tw/f\n",
    "2. 知乎： https://www.zhihu.com/explore\n",
    "\n",
    "並且回答下面問題：\n",
    "\n",
    "1. Request 取回之後該怎麼取出資料，資料型態是什麼？\n",
    "2. 為什麼要使用 BeatifulSoup 處理？處理後的型態是什麼？\n",
    "3. 觀察一下知乎回來的資料好像有點怪怪的，該怎麼解決？"
   ]
  },
  {
   "cell_type": "markdown",
   "metadata": {},
   "source": [
    "### 1. Dcard 網址： https://www.dcard.tw/f"
   ]
  },
  {
   "cell_type": "code",
   "execution_count": 1,
   "metadata": {},
   "outputs": [],
   "source": [
    "import requests\n",
    "from bs4 import BeautifulSoup"
   ]
  },
  {
   "cell_type": "code",
   "execution_count": 3,
   "metadata": {},
   "outputs": [
    {
     "name": "stdout",
     "output_type": "stream",
     "text": [
      "{\"message\":\"Hello there, wayfaring stranger. If you’re reading this then you probably didn’t see our blog post a couple of years back announcing that this API would go away: http://git.io/17AROg Fear not, you should be able to get what you need from the shiny new Events API instead.\",\"documentation_url\":\"https://developer.github.com/v3/activity/events/#list-public-events\"}\n"
     ]
    }
   ],
   "source": [
    "url = 'https://www.dcard.tw/f'\n",
    "\n",
    "# My code\n",
    "r = requests.get('https://github.com/timeline.json')\n",
    "r.encoding = 'utf-8'\n",
    "print(r.text[0:3000])"
   ]
  },
  {
   "cell_type": "code",
   "execution_count": 14,
   "metadata": {},
   "outputs": [],
   "source": [
    "soup = BeautifulSoup(url) "
   ]
  },
  {
   "cell_type": "code",
   "execution_count": 19,
   "metadata": {},
   "outputs": [
    {
     "name": "stdout",
     "output_type": "stream",
     "text": [
      "Request 取回之後該怎麼取出資料，資料型態是什麼？ =>  用.text 對之進行處理可得到 <class 'str'> 類型的資料\n"
     ]
    }
   ],
   "source": [
    "print('Request 取回之後該怎麼取出資料，資料型態是什麼？ =>', ' 用.text 對之進行處理可得到' ,type(r.text), '類型的資料')"
   ]
  },
  {
   "cell_type": "code",
   "execution_count": 22,
   "metadata": {},
   "outputs": [
    {
     "name": "stdout",
     "output_type": "stream",
     "text": [
      "為什麼要使用 BeatifulSoup 處理？處理後的型態是什麼？ =>  使用 BeatifulSoup 是為了方便挑出我們想要的部分, 資料型態為 <class 'bs4.BeautifulSoup'>\n"
     ]
    }
   ],
   "source": [
    "print('為什麼要使用 BeatifulSoup 處理？處理後的型態是什麼？ => ', '使用 BeatifulSoup 是為了方便挑出我們想要的部分, 資料型態為', type(soup))"
   ]
  },
  {
   "cell_type": "markdown",
   "metadata": {},
   "source": [
    "### 2. 知乎： https://www.zhihu.com/explore"
   ]
  },
  {
   "cell_type": "code",
   "execution_count": 23,
   "metadata": {},
   "outputs": [
    {
     "name": "stdout",
     "output_type": "stream",
     "text": [
      "<html>\r\n",
      "<head><title>400 Bad Request</title></head>\r\n",
      "<body bgcolor=\"white\">\r\n",
      "<center><h1>400 Bad Request</h1></center>\r\n",
      "<hr><center>openresty</center>\r\n",
      "</body>\r\n",
      "</html>\r\n",
      "\n"
     ]
    }
   ],
   "source": [
    "url = 'https://www.zhihu.com/explore'\n",
    "r = requests.get(url)\n",
    "r.encoding = 'utf-8'\n",
    "\n",
    "print(r.text[0:600])"
   ]
  },
  {
   "cell_type": "markdown",
   "metadata": {},
   "source": [
    "### 3. 觀察一下知乎回來的資料好像有點怪怪的，該怎麼解決？\n",
    "\n",
    "- 如第六天的講義所述，需要加上 Headers 才能運作\n",
    "- Headers 可以視為是最基本的檢查機器，可以⽤來判斷發出 Request 的那⼀⽅是否為⼀個正常的來源。因此我們在這邊可以加上⼀些資訊，讓我們利⽤ Python 發出的 Request 更像是⼀個正常的使⽤者⾏為"
   ]
  },
  {
   "cell_type": "code",
   "execution_count": 24,
   "metadata": {},
   "outputs": [
    {
     "name": "stdout",
     "output_type": "stream",
     "text": [
      "<html>\r\n",
      "<head><title>400 Bad Request</title></head>\r\n",
      "<body bgcolor=\"white\">\r\n",
      "<center><h1>400 Bad Request</h1></center>\r\n",
      "<hr><center>openresty</center>\r\n",
      "</body>\r\n",
      "</html>\r\n",
      "\n"
     ]
    }
   ],
   "source": [
    "import requests\n",
    "url = 'https://www.zhihu.com/explore'\n",
    "\n",
    "'''\n",
    "Your Code Here\n",
    "'''\n",
    "r = requests.get(url)\n",
    "r.encoding = 'utf-8'\n",
    "\n",
    "print(r.text[0:600])"
   ]
  },
  {
   "cell_type": "code",
   "execution_count": 26,
   "metadata": {},
   "outputs": [
    {
     "name": "stdout",
     "output_type": "stream",
     "text": [
      "<!doctype html>\n",
      "<html lang=\"zh\" data-hairline=\"true\" data-theme=\"light\"><head><meta charSet=\"utf-8\"/><title data-react-helmet=\"true\">发现 - 知乎</title><meta name=\"viewport\" content=\"width=device-width,initial-scale=1,maximum-scale=1\"/><meta name=\"renderer\" content=\"webkit\"/><meta name=\"force-rendering\" content=\"webkit\"/><meta http-equiv=\"X-UA-Compatible\" content=\"IE=edge,chrome=1\"/><meta name=\"google-site-verification\" content=\"FTeR0c8arOPKh8c5DYh_9uu98_zJbaWw53J-Sch9MTg\"/><meta name=\"description\" property=\"og:description\" content=\"有问题，上知乎。知乎，可信赖的问答社区，以让每个人高效获得可信赖的解答为使命。知乎凭借认真、专业和友善的社区氛围，结构化、易获得的\n"
     ]
    }
   ],
   "source": [
    "url = 'https://www.zhihu.com/explore'\n",
    "\n",
    "# My code\n",
    "headers = {'user-agent': 'my-app/0.0.1'}\n",
    "r = requests.get(url, headers=headers)\n",
    "r.encoding = 'utf-8'\n",
    "\n",
    "print(r.text[0:600])"
   ]
  }
 ],
 "metadata": {
  "kernelspec": {
   "display_name": "Python 3",
   "language": "python",
   "name": "python3"
  },
  "language_info": {
   "codemirror_mode": {
    "name": "ipython",
    "version": 3
   },
   "file_extension": ".py",
   "mimetype": "text/x-python",
   "name": "python",
   "nbconvert_exporter": "python",
   "pygments_lexer": "ipython3",
   "version": "3.7.1"
  }
 },
 "nbformat": 4,
 "nbformat_minor": 2
}
