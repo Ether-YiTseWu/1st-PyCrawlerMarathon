{
 "cells": [
  {
   "cell_type": "markdown",
   "metadata": {},
   "source": [
    "# 加速：多線程爬蟲\n",
    "\n",
    "\n",
    "\n",
    "* 了解知乎 API 使用方式與回傳內容\n",
    "* 撰寫程式存取 API 且添加標頭"
   ]
  },
  {
   "cell_type": "markdown",
   "metadata": {},
   "source": [
    "## 作業目標\n",
    "\n",
    "* 找一個之前實作過的爬蟲改用多線程改寫，比較前後時間的差異。\n",
    "\n",
    "\n",
    "\n"
   ]
  },
  {
   "cell_type": "code",
   "execution_count": 6,
   "metadata": {},
   "outputs": [],
   "source": [
    "# My Code\n",
    "import _thread\n",
    "import requests\n",
    "import time\n",
    "import re\n",
    "from bs4 import BeautifulSoup\n",
    "from selenium import webdriver\n",
    "from selenium.webdriver.common.keys import Keys"
   ]
  },
  {
   "cell_type": "code",
   "execution_count": 7,
   "metadata": {},
   "outputs": [],
   "source": [
    "job_104_url = \"https://www.104.com.tw/cust/list/index/?page=1&area=6001001000,6001002000&indcat=1001003003&order=1&mode=s&jobsource=checkc\""
   ]
  },
  {
   "cell_type": "markdown",
   "metadata": {},
   "source": [
    "## 單線程"
   ]
  },
  {
   "cell_type": "code",
   "execution_count": 10,
   "metadata": {},
   "outputs": [
    {
     "name": "stdout",
     "output_type": "stream",
     "text": [
      "爬第1頁中....\n",
      "爬第2頁中....\n",
      "爬第3頁中....\n",
      "爬第4頁中....\n",
      "爬第5頁中....\n",
      "爬第6頁中....\n",
      "爬第7頁中....\n",
      "爬第8頁中....\n",
      "爬第9頁中....\n",
      "爬第10頁中....\n",
      "爬第11頁中....\n",
      "爬第12頁中....\n",
      "沒有下一頁了!!!\n",
      "50.68500638008118\n"
     ]
    }
   ],
   "source": [
    "startTime = time.time()\n",
    "\n",
    "browser = webdriver.Chrome()\n",
    "browser.get(job_104_url)  # 打開瀏覽器並連到網頁\n",
    "time.sleep(2)  # delay一段時間等待網頁更新完成\n",
    "count = 0\n",
    "\n",
    "while True:\n",
    "    time.sleep(3)  # delay一段時間等待網頁更新完成\n",
    "    html = browser.page_source\n",
    "    soup = BeautifulSoup(html, 'lxml')\n",
    "    company_list = soup.find(\"div\", attrs={'id':\"company-result\"}).find_all(\"article\", attrs={'class':\"items\"})\n",
    "\n",
    "    #\n",
    "    # 擷取公司名稱及簡介內容\n",
    "    #\n",
    "    for company in company_list:\n",
    "        # 因為內容太多，我們把爬取到的結果，寫入\"company_list.txt\"檔案中，稍後再來檢視\n",
    "        company_name = company.a.string\n",
    "        f = open(\"company_list.txt\", \"a+\", encoding='utf-8')\n",
    "        f.write( company_name + \"\\n\" )  # 寫入公司名稱\n",
    "        \n",
    "        company_desc = company.find(\"p\", attrs={'class':\"desc\"})\n",
    "        f.write( company_desc.string + \"\\n\" )  # 寫入公司簡介\n",
    "        f.write( \"--------------------------------------------------------------------------------\" + \"\\n\" )\n",
    "        f.close()\n",
    "\n",
    "    '''\n",
    "    \n",
    "    接下來請學員練習，定位到「下一頁」按鈕。(可以利用find_element_by_link_text(\"xxx\")的函式)\n",
    "    如果還有下一頁，利用Selenium模擬click「下一頁」按鈕的動作。(定位到物件後，利用其click()屬性)\n",
    "    若沒有下一頁了，離開爬取的流程\n",
    "    \n",
    "    '''\n",
    "    \n",
    "    # My Code\n",
    "    totalPageData = soup.find(\"div\", attrs={'id':\"company-pages\"}).find(\"div\", attrs={'class':\"page-total\"})\n",
    "    totalPage = int(re.findall(\"\\d+\", totalPageData.text)[0])\n",
    "    \n",
    "    count += 1\n",
    "    print(\"爬第\" + str(count) + \"頁中....\")\n",
    "    if count == totalPage:\n",
    "        print(\"沒有下一頁了!!!\")\n",
    "        break\n",
    "    browser.find_element_by_link_text('下一頁').click()\n",
    "        \n",
    "browser.quit()\n",
    "finishTime = time.time()\n",
    "print(finishTime - startTime) # 正常的爬蟲所需時間"
   ]
  },
  {
   "cell_type": "markdown",
   "metadata": {},
   "source": [
    "## 多線程"
   ]
  },
  {
   "cell_type": "code",
   "execution_count": 11,
   "metadata": {},
   "outputs": [
    {
     "name": "stdout",
     "output_type": "stream",
     "text": [
      "爬第1頁中....\n",
      "爬第2頁中....\n",
      "爬第3頁中....\n",
      "爬第4頁中....\n",
      "爬第5頁中....\n",
      "爬第6頁中....\n",
      "爬第7頁中....\n",
      "爬第8頁中....\n",
      "爬第9頁中....\n",
      "爬第10頁中....\n",
      "爬第11頁中....\n",
      "爬第12頁中....\n",
      "沒有下一頁了!!!\n",
      "46.12240552902222\n"
     ]
    }
   ],
   "source": [
    "startTime = time.time()\n",
    "\n",
    "browser = webdriver.Chrome()\n",
    "_thread.start_new_thread( browser.get, (job_104_url, ) )\n",
    "time.sleep(2)  # delay一段時間等待網頁更新完成\n",
    "count = 0\n",
    "\n",
    "while True:\n",
    "    time.sleep(3)  # delay一段時間等待網頁更新完成\n",
    "    html = browser.page_source\n",
    "    soup = BeautifulSoup(html, 'lxml')\n",
    "    company_list = soup.find(\"div\", attrs={'id':\"company-result\"}).find_all(\"article\", attrs={'class':\"items\"})\n",
    "\n",
    "    #\n",
    "    # 擷取公司名稱及簡介內容\n",
    "    #\n",
    "    for company in company_list:\n",
    "        # 因為內容太多，我們把爬取到的結果，寫入\"company_list.txt\"檔案中，稍後再來檢視\n",
    "        company_name = company.a.string\n",
    "        f = open(\"company_list.txt\", \"a+\", encoding='utf-8')\n",
    "        f.write( company_name + \"\\n\" )  # 寫入公司名稱\n",
    "        \n",
    "        company_desc = company.find(\"p\", attrs={'class':\"desc\"})\n",
    "        f.write( company_desc.string + \"\\n\" )  # 寫入公司簡介\n",
    "        f.write( \"--------------------------------------------------------------------------------\" + \"\\n\" )\n",
    "        f.close()\n",
    "\n",
    "    '''\n",
    "    \n",
    "    接下來請學員練習，定位到「下一頁」按鈕。(可以利用find_element_by_link_text(\"xxx\")的函式)\n",
    "    如果還有下一頁，利用Selenium模擬click「下一頁」按鈕的動作。(定位到物件後，利用其click()屬性)\n",
    "    若沒有下一頁了，離開爬取的流程\n",
    "    \n",
    "    '''\n",
    "    \n",
    "    # My Code\n",
    "    totalPageData = soup.find(\"div\", attrs={'id':\"company-pages\"}).find(\"div\", attrs={'class':\"page-total\"})\n",
    "    totalPage = int(re.findall(\"\\d+\", totalPageData.text)[0])\n",
    "    \n",
    "    count += 1\n",
    "    print(\"爬第\" + str(count) + \"頁中....\")\n",
    "    if count == totalPage:\n",
    "        print(\"沒有下一頁了!!!\")\n",
    "        break\n",
    "    browser.find_element_by_link_text('下一頁').click()\n",
    "        \n",
    "browser.quit()\n",
    "finishTime = time.time()\n",
    "print(finishTime - startTime) # 正常的爬蟲所需時間"
   ]
  },
  {
   "cell_type": "markdown",
   "metadata": {},
   "source": [
    "## ---------------------------------------------------------------------------"
   ]
  },
  {
   "cell_type": "markdown",
   "metadata": {},
   "source": [
    "## 單線程"
   ]
  },
  {
   "cell_type": "code",
   "execution_count": 12,
   "metadata": {},
   "outputs": [
    {
     "name": "stdout",
     "output_type": "stream",
     "text": [
      "1.7656126022338867\n"
     ]
    }
   ],
   "source": [
    "urls = ['https://movies.yahoo.com.tw/', \"https://rate.bot.com.tw/xrt?Lang=zh-TW\"]\n",
    "\n",
    "startTime = time.time()\n",
    "\n",
    "for url in urls:\n",
    "    requests.get(url)\n",
    "\n",
    "finishTime = time.time()\n",
    "print(finishTime - startTime) # 正常的爬蟲所需時間"
   ]
  },
  {
   "cell_type": "markdown",
   "metadata": {},
   "source": [
    "## 多線程"
   ]
  },
  {
   "cell_type": "code",
   "execution_count": 13,
   "metadata": {},
   "outputs": [
    {
     "name": "stdout",
     "output_type": "stream",
     "text": [
      "0.00299072265625\n"
     ]
    }
   ],
   "source": [
    "startTime = time.time()\n",
    "\n",
    "for url in urls:\n",
    "    _thread.start_new_thread( requests.get, (url, ) )\n",
    "\n",
    "finishTime = time.time()\n",
    "print(finishTime - startTime) # 多線程的爬蟲所需時間"
   ]
  }
 ],
 "metadata": {
  "colab": {
   "name": "homework.ipynb",
   "provenance": []
  },
  "kernelspec": {
   "display_name": "Python 3",
   "language": "python",
   "name": "python3"
  },
  "language_info": {
   "codemirror_mode": {
    "name": "ipython",
    "version": 3
   },
   "file_extension": ".py",
   "mimetype": "text/x-python",
   "name": "python",
   "nbconvert_exporter": "python",
   "pygments_lexer": "ipython3",
   "version": "3.7.4"
  }
 },
 "nbformat": 4,
 "nbformat_minor": 1
}
