{
 "cells": [
  {
   "cell_type": "markdown",
   "metadata": {},
   "source": [
    "# PTT 網路爬蟲實作練習\n",
    "\n",
    "\n",
    "* 能夠利用 Request + BeatifulSour 撰寫爬蟲，並存放到合適的資料結構\n"
   ]
  },
  {
   "cell_type": "markdown",
   "metadata": {},
   "source": [
    "## 作業目標\n",
    "\n",
    "根據範例 ，完成以下問題：\n",
    "\n",
    "* ① 印出最新文章的「作者」「標題」「時間」\n",
    "* ② 印出第一頁所有文章的「作者」「標題」「時間」\n"
   ]
  },
  {
   "cell_type": "markdown",
   "metadata": {},
   "source": [
    "### ① 印出最新文章的「作者」「標題」「時間」"
   ]
  },
  {
   "cell_type": "code",
   "execution_count": 1,
   "metadata": {},
   "outputs": [
    {
     "name": "stdout",
     "output_type": "stream",
     "text": [
      "Sun Dec 22 09:52:19 2019\n"
     ]
    }
   ],
   "source": [
    "# My code\n",
    "# 先觀察HTML的資料內容，之後用\n",
    "import requests\n",
    "from bs4 import BeautifulSoup\n",
    "\n",
    "url = 'https://www.ptt.cc/bbs/NBA'\n",
    "r = requests.get(url)\n",
    "soup = BeautifulSoup(r.text, \"html5lib\")\n",
    "\n",
    "url2 = 'https://www.ptt.cc/bbs/NBA/M.1576979543.A.627.html'\n",
    "r2 = requests.get(url2)\n",
    "soup2 = BeautifulSoup(r2.text, \"html5lib\")\n",
    "\n",
    "index = r2.text.find('時間</span><span class=\"article-meta-value\">')\n",
    "index += len('時間</span><span class=\"article-meta-value\">')\n",
    "print(r2.text[index:index+24])"
   ]
  },
  {
   "cell_type": "code",
   "execution_count": 4,
   "metadata": {},
   "outputs": [
    {
     "data": {
      "text/plain": [
       "['Sun Dec 22 14:36:56 2019',\n",
       " 'Sun Dec 22 15:37:51 2019',\n",
       " 'arset=\"utf-8\">\\n\\t\\t\\n\\n<meta',\n",
       " 'Mon Jun 24 15:08:02 2019',\n",
       " 'Fri Oct 25 10:44:03 2019',\n",
       " 'Fri Nov 29 00:46:01 2019',\n",
       " 'Mon Dec 16 18:28:57 2019']"
      ]
     },
     "execution_count": 4,
     "metadata": {},
     "output_type": "execute_result"
    }
   ],
   "source": [
    "# My code\n",
    "\n",
    "author = []\n",
    "title = []\n",
    "time = []\n",
    "for d in soup.find_all(class_=\"title\"):\n",
    "    try:\n",
    "        individualUrlText = requests.get('https://www.ptt.cc'+d.find('a')['href']).text\n",
    "        index = individualUrlText.find('時間</span><span class=\"article-meta-value\">')\n",
    "        index += len('時間</span><span class=\"article-meta-value\">')\n",
    "        author.append(r.find(class_='article-meta-value').text)   \n",
    "        title.append(d.text.replace('\\t', '').replace('\\n', ''))\n",
    "        time.append(individualUrlText[index:index+24])     \n",
    "    except:\n",
    "        continue\n",
    "time"
   ]
  },
  {
   "cell_type": "code",
   "execution_count": 8,
   "metadata": {},
   "outputs": [
    {
     "name": "stdout",
     "output_type": "stream",
     "text": [
      " 作者 : dragon803 (好想去露營啊~)\n",
      " 標題 : [新聞] 詹姆斯鄙視柯瑞？名球評：他們之間並不\n",
      " 時間 : Sun Dec 22 15:37:51 2019\n",
      "\n"
     ]
    }
   ],
   "source": [
    "print(' 作者 : ' + author[1] + '\\n','標題 : ' +  title[1] + '\\n','時間 : ' +  time[1] + '\\n')"
   ]
  },
  {
   "cell_type": "markdown",
   "metadata": {},
   "source": [
    "### ② 印出第一頁所有文章的「作者」「標題」「時間」"
   ]
  },
  {
   "cell_type": "code",
   "execution_count": 3,
   "metadata": {},
   "outputs": [
    {
     "name": "stdout",
     "output_type": "stream",
     "text": [
      "作者:  asdf1256 (guest)\n",
      "標題:  [新聞] 可用之兵多到沒機會 波爾辛吉斯不好受\n",
      "時間:  Sun Dec 22 14:36:56 2019\n",
      "\n",
      "\n",
      "作者:  fukawa947 (交大薛之謙)\n",
      "標題:  [新聞] 詹姆斯鄙視柯瑞？名球評：他們之間並不\n",
      "時間:  Sun Dec 22 15:37:51 2019\n",
      "\n",
      "\n",
      "作者:  Vedan (味丹)\n",
      "標題:  [公告] 樂透取消及未來不再開啟樂透\n",
      "時間:  Mon Jun 24 15:08:02 2019\n",
      "\n",
      "\n",
      "作者:  qazwsx879345 (Rajon Rondo)\n",
      "標題:  [公告] 版主上任相關事項 \n",
      "時間:  Fri Oct 25 10:44:03 2019\n",
      "\n",
      "\n",
      "作者:  JerroLi (銀色小刀)\n",
      "標題:  [情報] SEASON Schedule 賽程 December 19–20\n",
      "時間:  Fri Nov 29 00:46:01 2019\n",
      "\n",
      "\n",
      "作者:  dragon803 (好想去露營啊~)\n",
      "標題:  [公告] 是否禁止記者鄭廷瑋文章投票開始\n",
      "時間:  Mon Dec 16 18:28:57 2019\n",
      "\n",
      "\n"
     ]
    }
   ],
   "source": [
    "# My code\n",
    "\n",
    "for d in soup.find_all(class_=\"title\"):\n",
    "    try:\n",
    "        individualUrlText = requests.get('https://www.ptt.cc'+d.find('a')['href']).text\n",
    "       \n",
    "        r = BeautifulSoup(individualUrlText, \"html5lib\")\n",
    "        print('作者: ', r.find(class_='article-meta-value').text)\n",
    "        \n",
    "        print('標題: ', d.text.replace('\\t', '').replace('\\n', ''))\n",
    "        \n",
    "        index = individualUrlText.find('時間</span><span class=\"article-meta-value\">')\n",
    "        index += len('時間</span><span class=\"article-meta-value\">')\n",
    "        print(\"時間: \", individualUrlText[index:index+24])\n",
    "    except:\n",
    "        continue\n",
    "    print('\\n')"
   ]
  },
  {
   "cell_type": "markdown",
   "metadata": {},
   "source": [
    "### ③ 試著爬爬看其他版的文章"
   ]
  },
  {
   "cell_type": "code",
   "execution_count": 9,
   "metadata": {},
   "outputs": [
    {
     "name": "stdout",
     "output_type": "stream",
     "text": [
      "作者:  s982071 (蔡逼八)\n",
      "標題:  109 中央報名人數\n",
      "時間:  Thu Dec 19 09:48:24 2019\n",
      "\n",
      "\n",
      "作者:  lplalp (是在哈囉)\n",
      "標題:  [情報] 中央電機所 固態組 謝易叡 實驗室 招生\n",
      "時間:  Thu Dec 19 10:38:12 2019\n",
      "\n",
      "\n",
      "作者:  happy052187 (Tur頭)\n",
      "標題:  [請益] 清大光電所求備取 發錢\n",
      "時間:  Thu Dec 19 14:24:04 2019\n",
      "\n",
      "\n",
      "作者:  mage594088 (不重要)\n",
      "標題:  [閒聊] 中央資工報考人數預測結果(發錢)\n",
      "時間:  Thu Dec 19 17:17:08 2019\n",
      "\n",
      "\n",
      "作者:  kilayun (kilayun)\n",
      "標題:  ［送書］統計/微積分/數理統計整套\n",
      "時間:  Thu Dec 19 21:53:01 2019\n",
      "\n",
      "\n",
      "作者:  b771105 (Sponge)\n",
      "標題:  [情報] 國立暨南國際大學電機系碩士班考試報名開\n",
      "時間:  Fri Dec 20 10:30:43 2019\n",
      "\n",
      "\n",
      "作者:  mediashow008 (大衛)\n",
      "標題:  [分享] 大學資工社群\n",
      "時間:  Fri Dec 20 11:56:15 2019\n",
      "\n",
      "\n",
      "作者:  nyu5765 (號稱天下第一的ID)\n",
      "標題:  [討論] 有人真的會去報淡江嗎??\n",
      "時間:  Fri Dec 20 12:08:01 2019\n",
      "\n",
      "\n",
      "作者:  celia0602 (CK)\n",
      "標題:  [請益] 護理背景報考研究所相關疑問\n",
      "時間:  Fri Dec 20 14:03:22 2019\n",
      "\n",
      "\n",
      "作者:  a1s1d177 (LATIAS)\n",
      "標題:  [請益] (代PO)交大應化乙組 備取\n",
      "時間:  Fri Dec 20 19:51:19 2019\n",
      "\n",
      "\n",
      "作者:  mineannieh (麥安捏)\n",
      "標題:  [問卷] 電商直播的使用經驗調查問卷(抽7-11禮券)\n",
      "時間:  Fri Dec 20 20:32:54 2019\n",
      "\n",
      "\n",
      "作者:  breaksky (breaksky)\n",
      "標題:  [請益] 北科電子丁 vs 中興電機丁\n",
      "時間:  Fri Dec 20 20:36:51 2019\n",
      "\n",
      "\n",
      "作者:  power41 (好餓歐)\n",
      "標題:  ［贈送］工數/線代用書\n",
      "時間:  Sat Dec 21 11:41:13 2019\n",
      "\n",
      "\n",
      "作者:  Ja5perle3 (來自南非的約翰)\n",
      "標題:  [心得] 政大科智/交大科法/交大科管 推甄心得\n",
      "時間:  Sat Dec 21 17:42:58 2019\n",
      "\n",
      "\n",
      "作者:  steven851015 (Steven)\n",
      "標題:  [請益] 中正soc教授請益\n",
      "時間:  Sat Dec 21 22:20:40 2019\n",
      "\n",
      "\n",
      "作者:  LouisFFs ()\n",
      "標題:  [心得]校名成績普電資心得/台大電信丙成大電機己\n",
      "時間:  Sun Dec 22 03:57:07 2019\n",
      "\n",
      "\n",
      "作者:  tenjow (天照)\n",
      "標題:  [版規] Graduate版版規+問卷文規範\n",
      "時間:  Tue Apr 20 00:00:58 2010\n",
      "\n",
      "\n",
      "作者:  tenjow (天照)\n",
      "標題:  [專區] 學術文獻交流分享專區(文獻徵求請利用此)\n",
      "時間:  Wed Feb 13 14:37:05 2013\n",
      "\n",
      "\n",
      "作者:  tenjow (天照)\n",
      "標題:  [專區] 考古題解答徵求交換專區\n",
      "時間:  Wed Feb 13 14:41:04 2013\n",
      "\n",
      "\n",
      "作者:  tenjow (天照)\n",
      "標題:  [專區] 買賣書暨[計算機]徵求置底專區\n",
      "時間:  Fri Oct  1 01:25:08 2010\n",
      "\n",
      "\n",
      "作者:  tenjow (天照)\n",
      "標題:  [公告] 關於【補習班】相關文\n",
      "時間:  Wed Jun 23 12:27:39 2010\n",
      "\n",
      "\n"
     ]
    }
   ],
   "source": [
    "# My code\n",
    "url = 'https://www.ptt.cc/bbs/graduate'\n",
    "r = requests.get(url)\n",
    "soup = BeautifulSoup(r.text, \"html5lib\")\n",
    "    \n",
    "for d in soup.find_all(class_=\"title\"):\n",
    "    try:\n",
    "        individualUrlText = requests.get('https://www.ptt.cc'+d.find('a')['href']).text\n",
    "       \n",
    "        r = BeautifulSoup(individualUrlText, \"html5lib\")\n",
    "        print('作者: ', r.find(class_='article-meta-value').text)\n",
    "        \n",
    "        print('標題: ', d.text.replace('\\t', '').replace('\\n', ''))\n",
    "        \n",
    "        index = individualUrlText.find('時間</span><span class=\"article-meta-value\">')\n",
    "        index += len('時間</span><span class=\"article-meta-value\">')\n",
    "        print(\"時間: \", individualUrlText[index:index+24])\n",
    "    except:\n",
    "        continue\n",
    "    print('\\n')"
   ]
  }
 ],
 "metadata": {
  "kernelspec": {
   "display_name": "Python 3",
   "language": "python",
   "name": "python3"
  },
  "language_info": {
   "codemirror_mode": {
    "name": "ipython",
    "version": 3
   },
   "file_extension": ".py",
   "mimetype": "text/x-python",
   "name": "python",
   "nbconvert_exporter": "python",
   "pygments_lexer": "ipython3",
   "version": "3.7.1"
  }
 },
 "nbformat": 4,
 "nbformat_minor": 2
}
