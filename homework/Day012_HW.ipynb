{
 "cells": [
  {
   "cell_type": "markdown",
   "metadata": {},
   "source": [
    "# Ettoday 網路爬蟲實作練習\n",
    "\n",
    "\n",
    "* 能夠利用 Request + BeatifulSour 撰寫爬蟲，並存放到合適的資料結構\n"
   ]
  },
  {
   "cell_type": "markdown",
   "metadata": {},
   "source": [
    "## 作業目標\n",
    "\n",
    "根據範例 ，完成以下問題：\n",
    "\n",
    "* ① 取出今天所有的發文\n",
    "* ② 如果想要依照類別分類，怎麼儲存會比較好？\n",
    "* ③ 哪一個類別的文章最多\n",
    "\n",
    "\n"
   ]
  },
  {
   "cell_type": "markdown",
   "metadata": {},
   "source": [
    "### ① 取出今天所有的發文"
   ]
  },
  {
   "cell_type": "code",
   "execution_count": 31,
   "metadata": {
    "scrolled": false
   },
   "outputs": [
    {
     "name": "stdout",
     "output_type": "stream",
     "text": [
      "2019/12/21 12:37 日電車顧人怨排行榜　「坐椅子方式」登冠軍寶座…後背包跌到第3\n",
      "2019/12/21 12:37 央視直播中「小學生突脫褲！」　校長：我們小時候都這樣\n",
      "2019/12/21 12:35 名嘴稱柯文哲58萬票是關鍵　賴清德：大家都一票而已\n",
      "2019/12/21 12:33 1221大遊行登場　警政署長坐鎮高雄：暴力現行犯當場逮捕！\n",
      "2019/12/21 12:33 比饗食天堂更猛！新日式Buffet「和牛握壽司」隨你吃　聖誕、跨年訂起來\n",
      "2019/12/21 12:32 走斑馬線但闖紅燈　女騎士綠燈撞死他…遇上「帝王條款」仍判刑\n",
      "2019/12/21 12:30 鼻子扭成抹布！「修圖狗」太特別被排除領養　志工：牠很愛撒嬌\n",
      "2019/12/21 12:26 薑發芽可吃！專家揭「1情況」含致癌物必丟...蔥、蒜也一樣\n",
      "2019/12/21 12:25 林子偉休季做瑜伽、打高爾夫　讓自己更好面對未來的路\n",
      "2019/12/21 12:25 榜眼莫蘭特試圖飛過洛夫　差點重現卡特奧運世紀之扣\n",
      "2019/12/21 12:23 韓國瑜回高雄...為了「挺韓遊行」　陳其邁批：還是把權力放第一順位\n",
      "2019/12/21 12:23 21歲白衣「超胸」正妹現身罷韓！　展堅定微笑嗲聲喊：韓國瑜太看不起高雄\n",
      "2019/12/21 12:21 老公偷賣辣妻200萬名牌包！　7個全賣掉還倒賠…回家認錯結局讓他爽爆\n",
      "2019/12/21 12:21 快訊／北市文山區火警！倉庫濃煙狂冒...祖孫3人嚇壞衝出屋外逃命\n",
      "2019/12/21 12:21 ESPN爆湖人主帥認為庫茲馬不適合體系　恐交易出去\n",
      "2019/12/21 12:21 長榮「台北－峴港」開航！來回機票促銷價7千元、跟團玩2.2萬元起\n",
      "2019/12/21 12:19 「衰尾查某」惹議　吳敦義：我只講「衰尾」沒說查某\n",
      "2019/12/21 12:18 罷韓尬挺韓！陳其邁不出席遊行：對高雄有信心\n",
      "2019/12/21 12:18 賴清德直搗藍票倉大安區：守護台灣成考量　第一選擇謝佩芬\n",
      "2019/12/21 12:16 澎湖立委選舉在地人「內戰」　歐中慨拚深耕軍公教「加持」\n",
      "2019/12/21 12:14 挺韓、罷韓遊行強碰！104警駐3大衝突熱點...出動「3組偵爆犬」查緝爆裂物\n",
      "2019/12/21 12:11 深夜發文「致高雄」 陳其邁：我在乎高雄！希望家鄉更好是高雄子弟共同心願\n",
      "2019/12/21 12:10 連956場得分雙位數　詹皇高居史上第1人\n",
      "2019/12/21 12:08 洗澡突安靜！媽秒衝浴室「兒詭躺綠水」不動…飆髒話　網嚇：揍一頓\n",
      "2019/12/21 12:08 LIVE／高雄挺韓大遊行登場！「30萬人上街」南方崛起擠爆鐵公路\n",
      "2019/12/21 12:08 逼迫裁掉2.2萬職缺…法國電信19員工輕生　3主管遭判刑\n",
      "2019/12/21 12:08 印度反《公民法》示威至少14死！　抗議者燒車控獨裁總理分裂國家\n",
      "2019/12/21 12:08 天花板「活體監視器」左右轉！　客買早餐仔細一看笑出來\n",
      "2019/12/21 12:06 12歲目睹媽媽遭性侵！少年密謀6年復仇計畫　當街持刀狂刺兇手\n",
      "2019/12/21 12:05 不會買的才在嫌　BMW集團高層捍衛大鼻孔水箱格柵設計\n",
      "2019/12/21 12:05 LIFE・經典／世界最薄摩天樓　要價16.5億元的紐約天際之巔\n",
      "2019/12/21 12:04 美術館變自助洗衣店！3層樓空間宛如走進懸疑愛情電影場景\n",
      "2019/12/21 12:04 為何世界用成績劃分？女生數學太差留「離別信」出走：對不起爸媽\n",
      "2019/12/21 12:01 為了追上學長努力拼！最後升上大聯盟　林子偉：想超越他\n",
      "2019/12/21 12:00 炸豆皮外酥內軟！高雄人氣鹹酥雞　嚴選溫體雞肉扎實不乾柴\n",
      "2019/12/21 11:56 柯文哲、馬英九批反滲透法　蔡英文：有必要性！立法嚴謹就不會有人誤觸法網\n",
      "2019/12/21 11:51 交換禮物抽到「佔位籤王」！　網反激讚「換燈泡實用炸」：真心想收\n",
      "2019/12/21 11:51 5歲童上課失蹤…師Call母親「來自己找」　馬桶內躺半截溺屍「口鼻塞滿屎」\n",
      "2019/12/21 11:50 男網路分享「同婚讓台灣成愛滋樂園」　法官認定「謠言」判罰3千\n",
      "2019/12/21 11:49 2020台灣燈會今晚點燈　20棟大樓外牆亮燈營造璀璨市容\n",
      "2019/12/21 11:48 夜市女攤商忙打烊遭搶　賊心慌「未戴安全帽」5分鐘就逮\n",
      "2019/12/21 11:48 排隊鳳梨酥這麼多　白種元偏偏選新莊！廟街隱藏「方塊狀古早味」\n",
      "2019/12/21 11:48 又大又圓超欠吃！特搜台南10大人氣湯圓　搭配酥脆吐司太邪惡\n",
      "2019/12/21 11:47 熊讚不藏私推「熊比登」美食　精選48間餐廳一起吃玩台北\n",
      "2019/12/21 11:46 快訊／白車陽金公路自撞路旁水泥牆　車頭爛毀、安全氣囊爆開...駕駛送醫\n",
      "2019/12/21 11:45 柴弟陪逛美妝店卻「睡倒櫃前」　媽傻眼→想通：對耶，牠是公的！\n",
      "2019/12/21 11:44 台中韓粉扛「3m長穿雲箭」！凌晨出發挺進凹子底...他：興奮到睡不著\n",
      "2019/12/21 11:44 魏大勛手滑點讚「絕不會丟下妳」…網嗨翻：認愛楊冪！　工作室深夜出聲了\n",
      "2019/12/21 11:42 高雄罷韓尬挺韓！蔡英文籲理性：要求警方高度戒備、確保遊行不發生衝突\n",
      "2019/12/21 11:42 打擊不是球來就打　林子偉：心理層面很重要\n",
      "2019/12/21 11:42 黃子佼「老神在在」挑戰無台詞演出　不忘發喜帖！\n",
      "2019/12/21 11:42 Wecare遊行彩蛋！「5米鏡球」高掛夜空：10萬人齊力點亮「綠色聖誕照耀高雄」\n",
      "2019/12/21 11:40 「2020豬事通‧鼠來興」　119擴大防火宣導嘉年華會好吸睛\n",
      "2019/12/21 11:40 狂撒1.5兆！日本軍費預算連8年增長　「買F-35戰機」削美貿易逆差\n",
      "2019/12/21 11:38 1221挺韓罷韓大遊行　賴清德呼籲：不管支持哪方都要理性\n",
      "2019/12/21 11:34 綺綺病逝1年…綺媽生產血崩！　「生完7天夢到她」站門口甜喊：媽媽我回來了\n",
      "2019/12/21 11:34 爭取伊古達拉？　獨行俠沒興趣\n",
      "2019/12/21 11:34 饒河夜市直擊！孕妻淋雨挨丈夫罵「柔聲哄」...她1招給難看　網：爸媽該多心疼\n",
      "2019/12/21 11:33 「張善政暖男變憤青！」蔡英文：人若為追求權力把事情極盡扭曲不好\n",
      "2019/12/21 11:29 台人赴越增近五成！越竹航空開航「台北－河內」線　每周6天飛14班\n",
      "2019/12/21 11:29 韓國瑜12/25上任市長滿周年！Wecare高雄下周四遞連署書　啟動第一階段罷免\n",
      "2019/12/21 11:29 意外造成的秘境！瑞芳神秘魔法石頭陣　搭配海景拍起來超美\n",
      "2019/12/21 11:25 嫁富和尚的日本名模打卡信義區聖誕熱點　穿GUCCI鞋的Q毛女兒成彩蛋\n",
      "2019/12/21 11:24 CBA／林書豪打不好仍滿足　以前表現差回家不說話\n",
      "2019/12/21 11:21 中職／發大財！市府證實：味全主場確定簽10年在新竹\n",
      "2019/12/21 11:20 冬至不只吃湯圓！當季6種好食材別錯過...白菜護膚養顏\n",
      "2019/12/21 11:18 防制美食外送交通事故　南警宣導與執法雙管齊下\n",
      "2019/12/21 11:16 很難評論　蔡英文回擊陳佩琪：她對政黨政治一知半解！\n",
      "2019/12/21 11:16 「銷魂牛排」吃下肚情慾上升　巴鈺驚吐：想回家找老公！\n",
      "2019/12/21 11:14 酸張善政不識台灣民主運動　蔡英文嗆：怎知我房間有黨外雜誌？有又怎樣？\n",
      "2019/12/21 11:13 鯨豚悲歌！宜蘭2019年第9起　外澳沙灘再見保育鯨豚擱淺死亡\n",
      "2019/12/21 11:09 逝世假消息頻傳！白金漢宮證實：98歲菲利普親王「預防性」入院\n",
      "2019/12/21 11:08 「為正義站出來」！民眾將免費發放200件「光復高雄」T恤　網一見揪團瘋搶\n",
      "2019/12/21 11:06 酒測連吹4次沒成功　他當場打太極拳「緩和一下」秒見效\n",
      "2019/12/21 11:05 新台幣超強勢！持續向30元靠攏　日圓、美元趁機換起來\n",
      "2019/12/21 11:02 2週前從歐洲返台！韓粉激昂喊「這是小錢」：為了救我們的國家花再多都願意\n",
      "2019/12/21 11:02 挺韓氣勢嚇死人！國旗上印「韓國瑜簽名肖像」　粉絲搭遊覽車一路搖旗吶喊\n",
      "2019/12/21 11:01 許紹洋隔18年再唱《花香》！　站薰衣草中現身…網一聽爆哭：你還是那個季晴川\n",
      "2019/12/21 11:00 帶部落孩子遠征國際！錦屏國小主任張世傑奪師鐸獎　用音樂開啟另一扇窗\n",
      "2019/12/21 11:00 終極版／一秒美哭..「北部10處耶誕亮點」燈海隧道、最高聖誕樹\n",
      "2019/12/21 10:59 電子書營收破億！　Readmoo公布2019年度閱讀報告：男重實用、女重心靈\n",
      "2019/12/21 10:58 臉書揪志士潛罷韓陣營發動夜襲　警嚴密監控「一藍一紅襪」人士\n",
      "2019/12/21 10:56 民進黨強推反滲透法　柯文哲：沒講清楚會有反效果\n",
      "2019/12/21 10:56 謝龍介元旦約大家到台南公園升旗　韓國瑜將出席共襄盛舉\n",
      "2019/12/21 10:54 湯鮮粉Q、料澎派！特搜胡志明4大河粉店...第2間柯林頓也吃過\n",
      "2019/12/21 10:53 南僑立下2025營收250億目標　匯損影響前11月每股賺3.21元\n",
      "2019/12/21 10:52 均溫41.9度！消防員火場喪生　總理被爆「夏威夷渡假」道歉了\n",
      "2019/12/21 10:48 綠島港區浮現陣陣油花　海巡積極處置阻生態浩劫\n",
      "2019/12/21 10:47 正妹空姐休假挺韓…一路南下超感動！身穿國旗裝「甜蜜打氣」：加油\n",
      "2019/12/21 10:46 「5天擊掌30次」最高紀錄！妹子第6天還要　男友臉嘴發白：我快死了\n",
      "2019/12/21 10:45 「韓妞3寶」一次購得！innisfree超強偽素顏組，1,200元有找\n",
      "2019/12/21 10:44 39歲希爾打死不退　數度克服傷痛獲康尼利亞羅獎\n",
      "2019/12/21 10:44 等了20人！媽快排到便當「突被告知移車」　懊惱帶女兒重排...前方露曙光暖炸\n",
      "2019/12/21 10:43 嘆蔡英文「不是壞人」　陳佩琪：為何放任國家讓派系吃乾抹淨？\n",
      "2019/12/21 10:42 剩21天！蘇巧慧透早奔「樹林菜市場發送桃花巧抹布」　親民之舉民眾衝握手\n",
      "2019/12/21 10:41 伊能靜高喊：我是中國人！　親教3歲愛女唱《我愛北京天安門》\n",
      "2019/12/21 10:41 UBA／台師大、健行開季9連勝　8強門票在望\n",
      "2019/12/21 10:40 抗企業匯率風險　人民銀行：繼續穩步推進人民幣國際化\n",
      "2019/12/21 10:38 清潔廚房太傷神！5個省錢又環保的妙招　果皮、洗米水全派上用場\n",
      "2019/12/21 10:37 2020「八大交通新制」！機車駕訓補助1300元、快速公路拖救1500元起跳\n"
     ]
    }
   ],
   "source": [
    "# My Code\n",
    "import requests\n",
    "from bs4 import BeautifulSoup\n",
    "\n",
    "url = 'https://www.ettoday.net/news/news-list.htm'\n",
    "r = requests.get(url)\n",
    "\n",
    "soup = BeautifulSoup(r.text)\n",
    "\n",
    "for d in soup.find(class_=\"part_list_2\").find_all('h3'):\n",
    "    print(d.find(class_=\"date\").text, d.find_all('a')[-1].text)"
   ]
  },
  {
   "cell_type": "markdown",
   "metadata": {},
   "source": [
    "### ② 如果想要依照類別分類，怎麼儲存會比較好？"
   ]
  },
  {
   "cell_type": "code",
   "execution_count": 38,
   "metadata": {},
   "outputs": [
    {
     "name": "stdout",
     "output_type": "stream",
     "text": [
      "<h3><span class=\"date\">2019/12/21 12:37</span><em class=\"tag c_global\">國際</em><a href=\"/news/20191221/1607221.htm\" target=\"_blank\">日電車顧人怨排行榜　「坐椅子方式」登冠軍寶座…後背包跌到第3</a></h3>\n",
      "<h3><span class=\"date\">2019/12/21 12:37</span><em class=\"tag c_china\">大陸</em><a href=\"/news/20191221/1607219.htm\" target=\"_blank\">央視直播中「小學生突脫褲！」　校長：我們小時候都這樣</a></h3>\n",
      "<h3><span class=\"date\">2019/12/21 12:35</span><em class=\"tag c_news\">政治</em><a href=\"/news/20191221/1607225.htm\" target=\"_blank\">名嘴稱柯文哲58萬票是關鍵　賴清德：大家都一票而已</a></h3>\n",
      "<h3><span class=\"date\">2019/12/21 12:33</span><em class=\"tag c_news\">政治</em><a href=\"/news/20191221/1607196.htm\" target=\"_blank\">1221大遊行登場　警政署長坐鎮高雄：暴力現行犯當場逮捕！</a></h3>\n",
      "<h3><span class=\"date\">2019/12/21 12:33</span><em class=\"tag c_travel\">旅遊</em><a href=\"/news/20191221/1607134.htm\" target=\"_blank\">比饗食天堂更猛！新日式Buffet「和牛握壽司」隨你吃　聖誕、跨年訂起來</a></h3>\n",
      "<h3><span class=\"date\">2019/12/21 12:32</span><em class=\"tag c_society\">社會</em><a href=\"/news/20191221/1607193.htm\" target=\"_blank\">走斑馬線但闖紅燈　女騎士綠燈撞死他…遇上「帝王條款」仍判刑</a></h3>\n",
      "<h3><span class=\"date\">2019/12/21 12:30</span><em class=\"tag c_pet\">寵物動物</em><a href=\"/news/20191221/1607154.htm\" target=\"_blank\"><i class=\"icon_type_video\"></i>鼻子扭成抹布！「修圖狗」太特別被排除領養　志工：牠很愛撒嬌</a></h3>\n",
      "<h3><span class=\"date\">2019/12/21 12:26</span><em class=\"tag c_health\">健康</em><a href=\"/news/20191221/1605696.htm\" target=\"_blank\">薑發芽可吃！專家揭「1情況」含致癌物必丟...蔥、蒜也一樣</a></h3>\n",
      "<h3><span class=\"date\">2019/12/21 12:25</span><em class=\"tag c_sport\">體育</em><a href=\"/news/20191221/1607217.htm\" target=\"_blank\">林子偉休季做瑜伽、打高爾夫　讓自己更好面對未來的路</a></h3>\n",
      "<h3><span class=\"date\">2019/12/21 12:25</span><em class=\"tag c_sport\">體育</em><a href=\"/news/20191221/1607163.htm\" target=\"_blank\"><i class=\"icon_type_video\"></i>榜眼莫蘭特試圖飛過洛夫　差點重現卡特奧運世紀之扣</a></h3>\n",
      "<h3><span class=\"date\">2019/12/21 12:23</span><em class=\"tag c_news\">政治</em><a href=\"/news/20191221/1607218.htm\" target=\"_blank\">韓國瑜回高雄...為了「挺韓遊行」　陳其邁批：還是把權力放第一順位</a></h3>\n",
      "<h3><span class=\"date\">2019/12/21 12:23</span><em class=\"tag c_news\">政治</em><a href=\"/news/20191221/1607175.htm\" target=\"_blank\"><i class=\"icon_type_video\"></i>21歲白衣「超胸」正妹現身罷韓！　展堅定微笑嗲聲喊：韓國瑜太看不起高雄</a></h3>\n",
      "<h3><span class=\"date\">2019/12/21 12:21</span><em class=\"tag c_star\">影劇</em><a href=\"/news/20191221/1607211.htm\" target=\"_blank\">老公偷賣辣妻200萬名牌包！　7個全賣掉還倒賠…回家認錯結局讓他爽爆</a></h3>\n",
      "<h3><span class=\"date\">2019/12/21 12:21</span><em class=\"tag c_society\">社會</em><a href=\"/news/20191221/1607210.htm\" target=\"_blank\"><i class=\"icon_type_video\"></i>快訊／北市文山區火警！倉庫濃煙狂冒...祖孫3人嚇壞衝出屋外逃命</a></h3>\n",
      "<h3><span class=\"date\">2019/12/21 12:21</span><em class=\"tag c_sport\">體育</em><a href=\"/news/20191221/1607200.htm\" target=\"_blank\">ESPN爆湖人主帥認為庫茲馬不適合體系　恐交易出去</a></h3>\n",
      "<h3><span class=\"date\">2019/12/21 12:21</span><em class=\"tag c_lifestyle\">生活</em><a href=\"/news/20191221/1607213.htm\" target=\"_blank\">長榮「台北－峴港」開航！來回機票促銷價7千元、跟團玩2.2萬元起</a></h3>\n",
      "<h3><span class=\"date\">2019/12/21 12:19</span><em class=\"tag c_news\">政治</em><a href=\"/news/20191221/1607209.htm\" target=\"_blank\">「衰尾查某」惹議　吳敦義：我只講「衰尾」沒說查某</a></h3>\n",
      "<h3><span class=\"date\">2019/12/21 12:18</span><em class=\"tag c_news\">政治</em><a href=\"/news/20191221/1607214.htm\" target=\"_blank\">罷韓尬挺韓！陳其邁不出席遊行：對高雄有信心</a></h3>\n",
      "<h3><span class=\"date\">2019/12/21 12:18</span><em class=\"tag c_news\">政治</em><a href=\"/news/20191221/1607124.htm\" target=\"_blank\">賴清德直搗藍票倉大安區：守護台灣成考量　第一選擇謝佩芬</a></h3>\n",
      "<h3><span class=\"date\">2019/12/21 12:16</span><em class=\"tag c_china\">大陸</em><a href=\"/news/20191221/1607058.htm\" target=\"_blank\">澎湖立委選舉在地人「內戰」　歐中慨拚深耕軍公教「加持」</a></h3>\n",
      "<h3><span class=\"date\">2019/12/21 12:14</span><em class=\"tag c_news\">政治</em><a href=\"/news/20191221/1607155.htm\" target=\"_blank\">挺韓、罷韓遊行強碰！104警駐3大衝突熱點...出動「3組偵爆犬」查緝爆裂物</a></h3>\n",
      "<h3><span class=\"date\">2019/12/21 12:11</span><em class=\"tag c_news\">政治</em><a href=\"/news/20191221/1607204.htm\" target=\"_blank\">深夜發文「致高雄」 陳其邁：我在乎高雄！希望家鄉更好是高雄子弟共同心願</a></h3>\n",
      "<h3><span class=\"date\">2019/12/21 12:10</span><em class=\"tag c_sport\">體育</em><a href=\"/news/20191221/1607199.htm\" target=\"_blank\">連956場得分雙位數　詹皇高居史上第1人</a></h3>\n",
      "<h3><span class=\"date\">2019/12/21 12:08</span><em class=\"tag c_house\">房產雲</em><a href=\"/news/20191221/1607170.htm\" target=\"_blank\">洗澡突安靜！媽秒衝浴室「兒詭躺綠水」不動…飆髒話　網嚇：揍一頓</a></h3>\n",
      "<h3><span class=\"date\">2019/12/21 12:08</span><em class=\"tag c_news\">政治</em><a href=\"/news/20191221/1607149.htm\" target=\"_blank\"><i class=\"icon_type_video\"></i>LIVE／高雄挺韓大遊行登場！「30萬人上街」南方崛起擠爆鐵公路</a></h3>\n",
      "<h3><span class=\"date\">2019/12/21 12:08</span><em class=\"tag c_global\">國際</em><a href=\"/news/20191221/1607147.htm\" target=\"_blank\">逼迫裁掉2.2萬職缺…法國電信19員工輕生　3主管遭判刑</a></h3>\n",
      "<h3><span class=\"date\">2019/12/21 12:08</span><em class=\"tag c_global\">國際</em><a href=\"/news/20191221/1607052.htm\" target=\"_blank\">印度反《公民法》示威至少14死！　抗議者燒車控獨裁總理分裂國家</a></h3>\n",
      "<h3><span class=\"date\">2019/12/21 12:08</span><em class=\"tag c_pet\">寵物動物</em><a href=\"/news/20191221/1606641.htm\" target=\"_blank\">天花板「活體監視器」左右轉！　客買早餐仔細一看笑出來</a></h3>\n",
      "<h3><span class=\"date\">2019/12/21 12:06</span><em class=\"tag c_global\">國際</em><a href=\"/news/20191221/1607088.htm\" target=\"_blank\">12歲目睹媽媽遭性侵！少年密謀6年復仇計畫　當街持刀狂刺兇手</a></h3>\n",
      "<h3><span class=\"date\">2019/12/21 12:05</span><em class=\"tag c_speed\">ET車雲</em><a href=\"/news/20191221/1606170.htm\" target=\"_blank\">不會買的才在嫌　BMW集團高層捍衛大鼻孔水箱格柵設計</a></h3>\n",
      "<h3><span class=\"date\">2019/12/21 12:05</span><em class=\"tag c_fashion\">時尚</em><a href=\"/news/20191221/1606028.htm\" target=\"_blank\">LIFE・經典／世界最薄摩天樓　要價16.5億元的紐約天際之巔</a></h3>\n",
      "<h3><span class=\"date\">2019/12/21 12:04</span><em class=\"tag c_lifestyle\">生活</em><a href=\"/news/20191221/1607153.htm\" target=\"_blank\">美術館變自助洗衣店！3層樓空間宛如走進懸疑愛情電影場景</a></h3>\n",
      "<h3><span class=\"date\">2019/12/21 12:04</span><em class=\"tag c_china\">大陸</em><a href=\"/news/20191221/1607082.htm\" target=\"_blank\">為何世界用成績劃分？女生數學太差留「離別信」出走：對不起爸媽</a></h3>\n",
      "<h3><span class=\"date\">2019/12/21 12:01</span><em class=\"tag c_sport\">體育</em><a href=\"/news/20191221/1607198.htm\" target=\"_blank\">為了追上學長努力拼！最後升上大聯盟　林子偉：想超越他</a></h3>\n",
      "<h3><span class=\"date\">2019/12/21 12:00</span><em class=\"tag c_travel\">旅遊</em><a href=\"/news/20191221/1601945.htm\" target=\"_blank\">炸豆皮外酥內軟！高雄人氣鹹酥雞　嚴選溫體雞肉扎實不乾柴</a></h3>\n",
      "<h3><span class=\"date\">2019/12/21 11:56</span><em class=\"tag c_news\">政治</em><a href=\"/news/20191221/1607194.htm\" target=\"_blank\">柯文哲、馬英九批反滲透法　蔡英文：有必要性！立法嚴謹就不會有人誤觸法網</a></h3>\n",
      "<h3><span class=\"date\">2019/12/21 11:51</span><em class=\"tag c_lifestyle\">生活</em><a href=\"/news/20191221/1607104.htm\" target=\"_blank\">交換禮物抽到「佔位籤王」！　網反激讚「換燈泡實用炸」：真心想收</a></h3>\n",
      "<h3><span class=\"date\">2019/12/21 11:51</span><em class=\"tag c_global\">國際</em><a href=\"/news/20191221/1607087.htm\" target=\"_blank\">5歲童上課失蹤…師Call母親「來自己找」　馬桶內躺半截溺屍「口鼻塞滿屎」</a></h3>\n",
      "<h3><span class=\"date\">2019/12/21 11:50</span><em class=\"tag c_society\">社會</em><a href=\"/news/20191221/1607180.htm\" target=\"_blank\">男網路分享「同婚讓台灣成愛滋樂園」　法官認定「謠言」判罰3千</a></h3>\n",
      "<h3><span class=\"date\">2019/12/21 11:49</span><em class=\"tag c_lifestyle\">生活</em><a href=\"/news/20191221/1607179.htm\" target=\"_blank\">2020台灣燈會今晚點燈　20棟大樓外牆亮燈營造璀璨市容</a></h3>\n",
      "<h3><span class=\"date\">2019/12/21 11:48</span><em class=\"tag c_society\">社會</em><a href=\"/news/20191221/1607188.htm\" target=\"_blank\"><i class=\"icon_type_video\"></i>夜市女攤商忙打烊遭搶　賊心慌「未戴安全帽」5分鐘就逮</a></h3>\n",
      "<h3><span class=\"date\">2019/12/21 11:48</span><em class=\"tag c_star\">影劇</em><a href=\"/news/20191221/1607015.htm\" target=\"_blank\"><i class=\"icon_type_video\"></i>排隊鳳梨酥這麼多　白種元偏偏選新莊！廟街隱藏「方塊狀古早味」</a></h3>\n",
      "<h3><span class=\"date\">2019/12/21 11:48</span><em class=\"tag c_travel\">旅遊</em><a href=\"/news/20191221/1605776.htm\" target=\"_blank\">又大又圓超欠吃！特搜台南10大人氣湯圓　搭配酥脆吐司太邪惡</a></h3>\n",
      "<h3><span class=\"date\">2019/12/21 11:47</span><em class=\"tag c_news\">政治</em><a href=\"/news/20191221/1607189.htm\" target=\"_blank\">熊讚不藏私推「熊比登」美食　精選48間餐廳一起吃玩台北</a></h3>\n",
      "<h3><span class=\"date\">2019/12/21 11:46</span><em class=\"tag c_society\">社會</em><a href=\"/news/20191221/1607174.htm\" target=\"_blank\"><i class=\"icon_type_video\"></i>快訊／白車陽金公路自撞路旁水泥牆　車頭爛毀、安全氣囊爆開...駕駛送醫</a></h3>\n",
      "<h3><span class=\"date\">2019/12/21 11:45</span><em class=\"tag c_pet\">寵物動物</em><a href=\"/news/20191221/1607114.htm\" target=\"_blank\">柴弟陪逛美妝店卻「睡倒櫃前」　媽傻眼→想通：對耶，牠是公的！</a></h3>\n",
      "<h3><span class=\"date\">2019/12/21 11:44</span><em class=\"tag c_news\">政治</em><a href=\"/news/20191221/1607167.htm\" target=\"_blank\">台中韓粉扛「3m長穿雲箭」！凌晨出發挺進凹子底...他：興奮到睡不著</a></h3>\n",
      "<h3><span class=\"date\">2019/12/21 11:44</span><em class=\"tag c_star\">影劇</em><a href=\"/news/20191221/1607157.htm\" target=\"_blank\"><i class=\"icon_type_video\"></i>魏大勛手滑點讚「絕不會丟下妳」…網嗨翻：認愛楊冪！　工作室深夜出聲了</a></h3>\n",
      "<h3><span class=\"date\">2019/12/21 11:42</span><em class=\"tag c_news\">政治</em><a href=\"/news/20191221/1607185.htm\" target=\"_blank\">高雄罷韓尬挺韓！蔡英文籲理性：要求警方高度戒備、確保遊行不發生衝突</a></h3>\n",
      "<h3><span class=\"date\">2019/12/21 11:42</span><em class=\"tag c_sport\">體育</em><a href=\"/news/20191221/1607184.htm\" target=\"_blank\">打擊不是球來就打　林子偉：心理層面很重要</a></h3>\n",
      "<h3><span class=\"date\">2019/12/21 11:42</span><em class=\"tag c_star\">影劇</em><a href=\"/news/20191221/1607183.htm\" target=\"_blank\">黃子佼「老神在在」挑戰無台詞演出　不忘發喜帖！</a></h3>\n",
      "<h3><span class=\"date\">2019/12/21 11:42</span><em class=\"tag c_news\">政治</em><a href=\"/news/20191221/1607089.htm\" target=\"_blank\"><i class=\"icon_type_video\"></i>Wecare遊行彩蛋！「5米鏡球」高掛夜空：10萬人齊力點亮「綠色聖誕照耀高雄」</a></h3>\n",
      "<h3><span class=\"date\">2019/12/21 11:40</span><em class=\"tag c_local\">地方</em><a href=\"/news/20191221/1607181.htm\" target=\"_blank\">「2020豬事通‧鼠來興」　119擴大防火宣導嘉年華會好吸睛</a></h3>\n",
      "<h3><span class=\"date\">2019/12/21 11:40</span><em class=\"tag c_global\">國際</em><a href=\"/news/20191221/1607074.htm\" target=\"_blank\">狂撒1.5兆！日本軍費預算連8年增長　「買F-35戰機」削美貿易逆差</a></h3>\n",
      "<h3><span class=\"date\">2019/12/21 11:38</span><em class=\"tag c_news\">政治</em><a href=\"/news/20191221/1607182.htm\" target=\"_blank\">1221挺韓罷韓大遊行　賴清德呼籲：不管支持哪方都要理性</a></h3>\n",
      "<h3><span class=\"date\">2019/12/21 11:34</span><em class=\"tag c_star\">影劇</em><a href=\"/news/20191221/1607178.htm\" target=\"_blank\">綺綺病逝1年…綺媽生產血崩！　「生完7天夢到她」站門口甜喊：媽媽我回來了</a></h3>\n",
      "<h3><span class=\"date\">2019/12/21 11:34</span><em class=\"tag c_sport\">體育</em><a href=\"/news/20191221/1607176.htm\" target=\"_blank\">爭取伊古達拉？　獨行俠沒興趣</a></h3>\n",
      "<h3><span class=\"date\">2019/12/21 11:34</span><em class=\"tag c_lifestyle\">生活</em><a href=\"/news/20191221/1607132.htm\" target=\"_blank\">饒河夜市直擊！孕妻淋雨挨丈夫罵「柔聲哄」...她1招給難看　網：爸媽該多心疼</a></h3>\n",
      "<h3><span class=\"date\">2019/12/21 11:33</span><em class=\"tag c_news\">政治</em><a href=\"/news/20191221/1607177.htm\" target=\"_blank\">「張善政暖男變憤青！」蔡英文：人若為追求權力把事情極盡扭曲不好</a></h3>\n",
      "<h3><span class=\"date\">2019/12/21 11:29</span><em class=\"tag c_lifestyle\">生活</em><a href=\"/news/20191221/1607169.htm\" target=\"_blank\">台人赴越增近五成！越竹航空開航「台北－河內」線　每周6天飛14班</a></h3>\n",
      "<h3><span class=\"date\">2019/12/21 11:29</span><em class=\"tag c_news\">政治</em><a href=\"/news/20191221/1607166.htm\" target=\"_blank\">韓國瑜12/25上任市長滿周年！Wecare高雄下周四遞連署書　啟動第一階段罷免</a></h3>\n",
      "<h3><span class=\"date\">2019/12/21 11:29</span><em class=\"tag c_travel\">旅遊</em><a href=\"/news/20191221/1601504.htm\" target=\"_blank\">意外造成的秘境！瑞芳神秘魔法石頭陣　搭配海景拍起來超美</a></h3>\n",
      "<h3><span class=\"date\">2019/12/21 11:25</span><em class=\"tag c_fashion\">時尚</em><a href=\"/news/20191221/1606691.htm\" target=\"_blank\">嫁富和尚的日本名模打卡信義區聖誕熱點　穿GUCCI鞋的Q毛女兒成彩蛋</a></h3>\n",
      "<h3><span class=\"date\">2019/12/21 11:24</span><em class=\"tag c_sport\">體育</em><a href=\"/news/20191221/1607117.htm\" target=\"_blank\">CBA／林書豪打不好仍滿足　以前表現差回家不說話</a></h3>\n",
      "<h3><span class=\"date\">2019/12/21 11:21</span><em class=\"tag c_sport\">體育</em><a href=\"/news/20191221/1607168.htm\" target=\"_blank\">中職／發大財！市府證實：味全主場確定簽10年在新竹</a></h3>\n",
      "<h3><span class=\"date\">2019/12/21 11:20</span><em class=\"tag c_health\">健康</em><a href=\"/news/20191221/1607077.htm\" target=\"_blank\">冬至不只吃湯圓！當季6種好食材別錯過...白菜護膚養顏</a></h3>\n",
      "<h3><span class=\"date\">2019/12/21 11:18</span><em class=\"tag c_local\">地方</em><a href=\"/news/20191221/1607164.htm\" target=\"_blank\">防制美食外送交通事故　南警宣導與執法雙管齊下</a></h3>\n",
      "<h3><span class=\"date\">2019/12/21 11:16</span><em class=\"tag c_news\">政治</em><a href=\"/news/20191221/1607165.htm\" target=\"_blank\">很難評論　蔡英文回擊陳佩琪：她對政黨政治一知半解！</a></h3>\n",
      "<h3><span class=\"date\">2019/12/21 11:16</span><em class=\"tag c_star\">影劇</em><a href=\"/news/20191221/1607161.htm\" target=\"_blank\">「銷魂牛排」吃下肚情慾上升　巴鈺驚吐：想回家找老公！</a></h3>\n",
      "<h3><span class=\"date\">2019/12/21 11:14</span><em class=\"tag c_news\">政治</em><a href=\"/news/20191221/1607156.htm\" target=\"_blank\">酸張善政不識台灣民主運動　蔡英文嗆：怎知我房間有黨外雜誌？有又怎樣？</a></h3>\n",
      "<h3><span class=\"date\">2019/12/21 11:13</span><em class=\"tag c_pet\">寵物動物</em><a href=\"/news/20191221/1607148.htm\" target=\"_blank\">鯨豚悲歌！宜蘭2019年第9起　外澳沙灘再見保育鯨豚擱淺死亡</a></h3>\n",
      "<h3><span class=\"date\">2019/12/21 11:09</span><em class=\"tag c_global\">國際</em><a href=\"/news/20191221/1607068.htm\" target=\"_blank\">逝世假消息頻傳！白金漢宮證實：98歲菲利普親王「預防性」入院</a></h3>\n",
      "<h3><span class=\"date\">2019/12/21 11:08</span><em class=\"tag c_news\">政治</em><a href=\"/news/20191221/1607135.htm\" target=\"_blank\">「為正義站出來」！民眾將免費發放200件「光復高雄」T恤　網一見揪團瘋搶</a></h3>\n",
      "<h3><span class=\"date\">2019/12/21 11:06</span><em class=\"tag c_china\">大陸</em><a href=\"/news/20191221/1607086.htm\" target=\"_blank\"><i class=\"icon_type_video\"></i>酒測連吹4次沒成功　他當場打太極拳「緩和一下」秒見效</a></h3>\n",
      "<h3><span class=\"date\">2019/12/21 11:05</span><em class=\"tag c_finance\">財經</em><a href=\"/news/20191221/1606828.htm\" target=\"_blank\">新台幣超強勢！持續向30元靠攏　日圓、美元趁機換起來</a></h3>\n",
      "<h3><span class=\"date\">2019/12/21 11:02</span><em class=\"tag c_news\">政治</em><a href=\"/news/20191221/1607120.htm\" target=\"_blank\">2週前從歐洲返台！韓粉激昂喊「這是小錢」：為了救我們的國家花再多都願意</a></h3>\n",
      "<h3><span class=\"date\">2019/12/21 11:02</span><em class=\"tag c_news\">政治</em><a href=\"/news/20191221/1607091.htm\" target=\"_blank\"><i class=\"icon_type_video\"></i>挺韓氣勢嚇死人！國旗上印「韓國瑜簽名肖像」　粉絲搭遊覽車一路搖旗吶喊</a></h3>\n",
      "<h3><span class=\"date\">2019/12/21 11:01</span><em class=\"tag c_star\">影劇</em><a href=\"/news/20191221/1607145.htm\" target=\"_blank\">許紹洋隔18年再唱《花香》！　站薰衣草中現身…網一聽爆哭：你還是那個季晴川</a></h3>\n",
      "<h3><span class=\"date\">2019/12/21 11:00</span><em class=\"tag c_lifestyle\">生活</em><a href=\"/news/20191221/1606504.htm\" target=\"_blank\">帶部落孩子遠征國際！錦屏國小主任張世傑奪師鐸獎　用音樂開啟另一扇窗</a></h3>\n",
      "<h3><span class=\"date\">2019/12/21 11:00</span><em class=\"tag c_travel\">旅遊</em><a href=\"/news/20191221/1606418.htm\" target=\"_blank\">終極版／一秒美哭..「北部10處耶誕亮點」燈海隧道、最高聖誕樹</a></h3>\n",
      "<h3><span class=\"date\">2019/12/21 10:59</span><em class=\"tag c_finance\">財經</em><a href=\"/news/20191221/1607144.htm\" target=\"_blank\">電子書營收破億！　Readmoo公布2019年度閱讀報告：男重實用、女重心靈</a></h3>\n",
      "<h3><span class=\"date\">2019/12/21 10:58</span><em class=\"tag c_society\">社會</em><a href=\"/news/20191221/1607142.htm\" target=\"_blank\">臉書揪志士潛罷韓陣營發動夜襲　警嚴密監控「一藍一紅襪」人士</a></h3>\n",
      "<h3><span class=\"date\">2019/12/21 10:56</span><em class=\"tag c_news\">政治</em><a href=\"/news/20191221/1607146.htm\" target=\"_blank\"><i class=\"icon_type_video\"></i>民進黨強推反滲透法　柯文哲：沒講清楚會有反效果</a></h3>\n",
      "<h3><span class=\"date\">2019/12/21 10:56</span><em class=\"tag c_news\">政治</em><a href=\"/news/20191221/1607123.htm\" target=\"_blank\">謝龍介元旦約大家到台南公園升旗　韓國瑜將出席共襄盛舉</a></h3>\n",
      "<h3><span class=\"date\">2019/12/21 10:54</span><em class=\"tag c_travel\">旅遊</em><a href=\"/news/20191221/1606303.htm\" target=\"_blank\">湯鮮粉Q、料澎派！特搜胡志明4大河粉店...第2間柯林頓也吃過</a></h3>\n",
      "<h3><span class=\"date\">2019/12/21 10:53</span><em class=\"tag c_finance\">財經</em><a href=\"/news/20191221/1607101.htm\" target=\"_blank\">南僑立下2025營收250億目標　匯損影響前11月每股賺3.21元</a></h3>\n",
      "<h3><span class=\"date\">2019/12/21 10:52</span><em class=\"tag c_global\">國際</em><a href=\"/news/20191221/1607081.htm\" target=\"_blank\">均溫41.9度！消防員火場喪生　總理被爆「夏威夷渡假」道歉了</a></h3>\n",
      "<h3><span class=\"date\">2019/12/21 10:48</span><em class=\"tag c_local\">地方</em><a href=\"/news/20191221/1607131.htm\" target=\"_blank\">綠島港區浮現陣陣油花　海巡積極處置阻生態浩劫</a></h3>\n",
      "<h3><span class=\"date\">2019/12/21 10:47</span><em class=\"tag c_news\">政治</em><a href=\"/news/20191221/1607127.htm\" target=\"_blank\"><i class=\"icon_type_video\"></i>正妹空姐休假挺韓…一路南下超感動！身穿國旗裝「甜蜜打氣」：加油</a></h3>\n",
      "<h3><span class=\"date\">2019/12/21 10:46</span><em class=\"tag c_lifestyle\">生活</em><a href=\"/news/20191221/1607075.htm\" target=\"_blank\">「5天擊掌30次」最高紀錄！妹子第6天還要　男友臉嘴發白：我快死了</a></h3>\n",
      "<h3><span class=\"date\">2019/12/21 10:45</span><em class=\"tag c_fashion\">時尚</em><a href=\"/news/20191221/1607000.htm\" target=\"_blank\">「韓妞3寶」一次購得！innisfree超強偽素顏組，1,200元有找</a></h3>\n",
      "<h3><span class=\"date\">2019/12/21 10:44</span><em class=\"tag c_sport\">體育</em><a href=\"/news/20191221/1607139.htm\" target=\"_blank\">39歲希爾打死不退　數度克服傷痛獲康尼利亞羅獎</a></h3>\n",
      "<h3><span class=\"date\">2019/12/21 10:44</span><em class=\"tag c_lifestyle\">生活</em><a href=\"/news/20191221/1607084.htm\" target=\"_blank\">等了20人！媽快排到便當「突被告知移車」　懊惱帶女兒重排...前方露曙光暖炸</a></h3>\n",
      "<h3><span class=\"date\">2019/12/21 10:43</span><em class=\"tag c_news\">政治</em><a href=\"/news/20191221/1607090.htm\" target=\"_blank\">嘆蔡英文「不是壞人」　陳佩琪：為何放任國家讓派系吃乾抹淨？</a></h3>\n",
      "<h3><span class=\"date\">2019/12/21 10:42</span><em class=\"tag c_news\">政治</em><a href=\"/news/20191221/1607048.htm\" target=\"_blank\">剩21天！蘇巧慧透早奔「樹林菜市場發送桃花巧抹布」　親民之舉民眾衝握手</a></h3>\n",
      "<h3><span class=\"date\">2019/12/21 10:41</span><em class=\"tag c_star\">影劇</em><a href=\"/news/20191221/1607137.htm\" target=\"_blank\">伊能靜高喊：我是中國人！　親教3歲愛女唱《我愛北京天安門》</a></h3>\n",
      "<h3><span class=\"date\">2019/12/21 10:41</span><em class=\"tag c_sport\">體育</em><a href=\"/news/20191221/1607136.htm\" target=\"_blank\">UBA／台師大、健行開季9連勝　8強門票在望</a></h3>\n",
      "<h3><span class=\"date\">2019/12/21 10:40</span><em class=\"tag c_china\">大陸</em><a href=\"/news/20191221/1607133.htm\" target=\"_blank\">抗企業匯率風險　人民銀行：繼續穩步推進人民幣國際化</a></h3>\n",
      "<h3><span class=\"date\">2019/12/21 10:38</span><em class=\"tag c_house\">房產雲</em><a href=\"/news/20191221/1605335.htm\" target=\"_blank\">清潔廚房太傷神！5個省錢又環保的妙招　果皮、洗米水全派上用場</a></h3>\n",
      "<h3><span class=\"date\">2019/12/21 10:37</span><em class=\"tag c_lifestyle\">生活</em><a href=\"/news/20191221/1607126.htm\" target=\"_blank\"><i class=\"icon_type_video\"></i>2020「八大交通新制」！機車駕訓補助1300元、快速公路拖救1500元起跳</a></h3>\n"
     ]
    }
   ],
   "source": [
    "# My Code, the part of this code shows data which I want to deal with\n",
    "\n",
    "for d in soup.find(class_=\"part_list_2\").find_all('h3'):\n",
    "    print(d)"
   ]
  },
  {
   "cell_type": "code",
   "execution_count": 34,
   "metadata": {},
   "outputs": [
    {
     "name": "stdout",
     "output_type": "stream",
     "text": [
      "我覺得「將新聞類別放進LIST裡面」是比較好的儲存方式\n"
     ]
    }
   ],
   "source": [
    "# My Code\n",
    "category = []\n",
    "\n",
    "for d in soup.find(class_=\"part_list_2\").find_all('h3'):\n",
    "    category.append(d.find_all('em')[-1].text)\n",
    "\n",
    "print(\"我覺得「將新聞類別放進LIST裡面」是比較好的儲存方式\")"
   ]
  },
  {
   "cell_type": "markdown",
   "metadata": {},
   "source": [
    "### ③ 哪一個類別的文章最多"
   ]
  },
  {
   "cell_type": "code",
   "execution_count": 59,
   "metadata": {
    "scrolled": true
   },
   "outputs": [
    {
     "name": "stdout",
     "output_type": "stream",
     "text": [
      "['ET車雲', 1, '健康', 2, '國際', 8, '地方', 3, '大陸', 5, '寵物動物', 4, '影劇', 8, '房產雲', 2, '政治', 28, '旅遊', 6, '時尚', 3, '生活', 10, '社會', 6, '財經', 3]\n"
     ]
    }
   ],
   "source": [
    "# My Code\n",
    "category.sort()\n",
    "\n",
    "tmp = category[0]\n",
    "num = 0\n",
    "ansCount = []\n",
    "\n",
    "for i in category:\n",
    "    if tmp == i:\n",
    "        num += 1\n",
    "    else:\n",
    "        ansCount.append(tmp)\n",
    "        ansCount.append(num)\n",
    "        num = 1\n",
    "    tmp = i\n",
    "        \n",
    "print(ansCount)"
   ]
  },
  {
   "cell_type": "code",
   "execution_count": 60,
   "metadata": {},
   "outputs": [
    {
     "name": "stdout",
     "output_type": "stream",
     "text": [
      "政治類別的文章最多\n"
     ]
    }
   ],
   "source": [
    "print(\"政治類別的文章最多\")"
   ]
  }
 ],
 "metadata": {
  "kernelspec": {
   "display_name": "Python 3",
   "language": "python",
   "name": "python3"
  },
  "language_info": {
   "codemirror_mode": {
    "name": "ipython",
    "version": 3
   },
   "file_extension": ".py",
   "mimetype": "text/x-python",
   "name": "python",
   "nbconvert_exporter": "python",
   "pygments_lexer": "ipython3",
   "version": "3.7.1"
  }
 },
 "nbformat": 4,
 "nbformat_minor": 2
}
